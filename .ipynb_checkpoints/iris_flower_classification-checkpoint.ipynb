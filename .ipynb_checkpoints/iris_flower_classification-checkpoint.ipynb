{
 "cells": [
  {
   "cell_type": "markdown",
   "id": "d0773f1c",
   "metadata": {},
   "source": [
    "## iris flower classificaion "
   ]
  },
  {
   "cell_type": "markdown",
   "id": "bfc630d9",
   "metadata": {},
   "source": [
    "### Import module "
   ]
  },
  {
   "cell_type": "code",
   "execution_count": null,
   "id": "b9a8423b",
   "metadata": {},
   "outputs": [],
   "source": [
    "import numpy as np\n",
    "import pandas as pd\n",
    "import matplotlib as mpl\n",
    "import matplotlib.pyplot as plt\n",
    "import seaborn as sns\n",
    "from pandas.plotting import scatter_matrix\n",
    "from sklearn.model_selection import train_test_split"
   ]
  },
  {
   "cell_type": "code",
   "execution_count": null,
   "id": "1f38933e",
   "metadata": {},
   "outputs": [],
   "source": [
    "# import data file \n",
    "data = pd.read_csv('iris.csv')\n",
    "data"
   ]
  },
  {
   "cell_type": "code",
   "execution_count": null,
   "id": "224930b7",
   "metadata": {},
   "outputs": [],
   "source": [
    "data.head()"
   ]
  },
  {
   "cell_type": "code",
   "execution_count": null,
   "id": "628ce125",
   "metadata": {},
   "outputs": [],
   "source": [
    "data.tail()"
   ]
  },
  {
   "cell_type": "code",
   "execution_count": null,
   "id": "d1440ae3",
   "metadata": {},
   "outputs": [],
   "source": [
    "data.describe()"
   ]
  },
  {
   "cell_type": "code",
   "execution_count": null,
   "id": "26c5c4ba",
   "metadata": {},
   "outputs": [],
   "source": [
    "data.info()"
   ]
  },
  {
   "cell_type": "code",
   "execution_count": null,
   "id": "c081d28a",
   "metadata": {},
   "outputs": [],
   "source": [
    "#check for null value\n",
    "data.isnull().sum()"
   ]
  },
  {
   "cell_type": "code",
   "execution_count": null,
   "id": "2917db62",
   "metadata": {},
   "outputs": [],
   "source": [
    "#check duplicates\n",
    "for i in data:\n",
    "    if data[data[i].duplicated()].empty:\n",
    "        print(data[i])\n",
    "else :\n",
    "    print(\"No duplicate value found.\")"
   ]
  },
  {
   "cell_type": "markdown",
   "id": "dc378a92",
   "metadata": {},
   "source": [
    "### EDA\n"
   ]
  },
  {
   "cell_type": "code",
   "execution_count": null,
   "id": "012e2f9b",
   "metadata": {},
   "outputs": [],
   "source": [
    "data.hist(bins = 30, figsize=(12,8))"
   ]
  },
  {
   "cell_type": "code",
   "execution_count": null,
   "id": "2c3f6b98",
   "metadata": {},
   "outputs": [],
   "source": [
    "#count the species\n",
    "df = data['species'].value_counts()\n",
    "df"
   ]
  },
  {
   "cell_type": "code",
   "execution_count": null,
   "id": "ac62dce0",
   "metadata": {},
   "outputs": [],
   "source": [
    "df.plot(kind = 'pie', autopct='%1.1f%%', center = (4,4),  startangle=70, )\n",
    "plt.axis('equal')  # Equal aspect ratio ensures that pie is drawn as a circle\n",
    "plt.title('Iris Species')\n",
    "plt.ylabel( '')"
   ]
  },
  {
   "cell_type": "code",
   "execution_count": null,
   "id": "b0e3cdd7",
   "metadata": {},
   "outputs": [],
   "source": [
    "data.plot(kind = 'scatter', x= 'sepal_length', y= 'sepal_width', alpha = 0.8 )"
   ]
  },
  {
   "cell_type": "code",
   "execution_count": null,
   "id": "015a2714",
   "metadata": {},
   "outputs": [],
   "source": [
    "data.plot(kind = 'scatter', x= 'petal_length', y= 'petal_width', alpha = 0.8 )"
   ]
  },
  {
   "cell_type": "code",
   "execution_count": null,
   "id": "1ec39561",
   "metadata": {},
   "outputs": [],
   "source": [
    "#sepal and petal desc according to species\n",
    "data.groupby('species').describe()"
   ]
  },
  {
   "cell_type": "code",
   "execution_count": null,
   "id": "7cc7cd7d",
   "metadata": {},
   "outputs": [],
   "source": [
    "data.groupby('species').median()"
   ]
  },
  {
   "cell_type": "code",
   "execution_count": null,
   "id": "a92a2128",
   "metadata": {},
   "outputs": [],
   "source": [
    "data.groupby('species').mean()"
   ]
  },
  {
   "cell_type": "code",
   "execution_count": null,
   "id": "033c3788",
   "metadata": {},
   "outputs": [],
   "source": [
    "#boxplot \n",
    "plt.figure(figsize=(10, 6))\n",
    "for i, feature in enumerate(data.columns[:-1]):\n",
    "    plt.subplot(2, 2, i + 1)\n",
    "    sns.boxplot(x='species', y=feature, data=data)\n",
    "    plt.title(f'{feature} by Species')\n",
    "    plt.grid()\n",
    "plt.tight_layout()"
   ]
  },
  {
   "cell_type": "code",
   "execution_count": null,
   "id": "11485610",
   "metadata": {},
   "outputs": [],
   "source": [
    "sns.pairplot(data, vars=['sepal_length', 'sepal_width' ,'petal_length', 'petal_width'], hue='species', palette='viridis')"
   ]
  },
  {
   "cell_type": "code",
   "execution_count": null,
   "id": "f5f69602",
   "metadata": {},
   "outputs": [],
   "source": [
    "attributes = ['sepal_length', 'sepal_width' ,'petal_length', 'petal_width']\n",
    "scatter_matrix(data[attributes], figsize=(12, 8))"
   ]
  },
  {
   "cell_type": "markdown",
   "id": "138c98b2",
   "metadata": {},
   "source": [
    "### train and test data split"
   ]
  },
  {
   "cell_type": "code",
   "execution_count": null,
   "id": "e683d421",
   "metadata": {},
   "outputs": [],
   "source": [
    "data_train , data_test = train_test_split(data, teat_size = 0.2, random = 42 )"
   ]
  },
  {
   "cell_type": "code",
   "execution_count": null,
   "id": "9900f407",
   "metadata": {},
   "outputs": [],
   "source": [
    "print(f\"length of train data {len(train_data)} and length test data {len(test_data)}\")"
   ]
  },
  {
   "cell_type": "code",
   "execution_count": null,
   "id": "595b7223",
   "metadata": {},
   "outputs": [],
   "source": []
  }
 ],
 "metadata": {
  "kernelspec": {
   "display_name": "Python 3 (ipykernel)",
   "language": "python",
   "name": "python3"
  },
  "language_info": {
   "codemirror_mode": {
    "name": "ipython",
    "version": 3
   },
   "file_extension": ".py",
   "mimetype": "text/x-python",
   "name": "python",
   "nbconvert_exporter": "python",
   "pygments_lexer": "ipython3",
   "version": "3.11.1"
  }
 },
 "nbformat": 4,
 "nbformat_minor": 5
}
